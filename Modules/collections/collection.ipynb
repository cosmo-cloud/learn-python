{
 "cells": [
  {
   "cell_type": "markdown",
   "metadata": {},
   "source": [
    "# Collection modules "
   ]
  },
  {
   "cell_type": "markdown",
   "metadata": {},
   "source": [
    "### Collection Module provides the alternatives to built-in data types such as list, tuples and dictionary.\n"
   ]
  },
  {
   "cell_type": "markdown",
   "metadata": {},
   "source": [
    "--------------------------"
   ]
  },
  {
   "cell_type": "markdown",
   "metadata": {},
   "source": [
    "## 1.`namedtuple()`"
   ]
  },
  {
   "cell_type": "markdown",
   "metadata": {},
   "source": [
    "- Named tuples assign meaning to each position in a tuple and allow for more readable, self-documenting code. They can be used wherever regular tuples are used, and they add the ability to access fields by name instead of position index.\n",
    "\n",
    "- Returns a new tuple subclass named _typeclass_.The new subclass is used to create tuple-like objects that have fields accessible by attribute lookup as well as being indexable and iterable. \n",
    "\n",
    "``` collections.namedtuple(typename, field_names, *, rename=False, defaults=None, module=None)¶```\n"
   ]
  },
  {
   "cell_type": "code",
   "execution_count": 3,
   "metadata": {},
   "outputs": [],
   "source": [
    "# Example\n",
    "\n",
    "from collections import namedtuple\n",
    "\n",
    "cars = namedtuple('cars', 'fuelType transmission')\n",
    "Honda_civic = cars( fueltype = 'Petrol and Disel', transmission = 'Automatic and Manual')\n",
    "Land_rover = cars (fueltype = 'Disel', transmission = 'Automatic')\n",
    "\n"
   ]
  },
  {
   "cell_type": "code",
   "execution_count": 7,
   "metadata": {},
   "outputs": [
    {
     "name": "stdout",
     "output_type": "stream",
     "text": [
      "Disel\n",
      "------------------\n",
      "Automatic and Manual\n"
     ]
    }
   ],
   "source": [
    "print(Land_rover.fueltype)\n",
    "print('------------------')\n",
    "print(Honda_civic.transmission)"
   ]
  },
  {
   "cell_type": "markdown",
   "metadata": {},
   "source": [
    "------------------------------------------------------------------------"
   ]
  },
  {
   "cell_type": "markdown",
   "metadata": {},
   "source": [
    "## 2.`deque()`"
   ]
  },
  {
   "cell_type": "markdown",
   "metadata": {},
   "source": [
    "Returns a new deque object initialized left-to-right (using append()) with data from iterable. If iterable is not specified, the new deque is empty. Deques are optimized, support thread-safe and memory efficient which gives the time complixity of o(n) time.\n",
    "\n",
    "``` class collections.deque([iterable[, maxlen]])```"
   ]
  },
  {
   "cell_type": "markdown",
   "metadata": {},
   "source": [
    "**```append()```: updates the vlaue at the end of deque**\n",
    "\n",
    "**```appendleft()```: updates the value at the start of deque**"
   ]
  },
  {
   "cell_type": "code",
   "execution_count": 10,
   "metadata": {},
   "outputs": [
    {
     "name": "stdout",
     "output_type": "stream",
     "text": [
      "deque(['pineapple', 'apple', 'mango', 'grapes', 'litchi', 'kiwi'])\n"
     ]
    }
   ],
   "source": [
    "from collections import deque\n",
    "\n",
    "fruit_basket = deque(['apple','mango','grapes','litchi'])\n",
    "\n",
    "fruit_basket.append('kiwi') # appends the element at the end of the list\n",
    "fruit_basket.appendleft('pineapple') #appendleft appends the element at the start of the list\n",
    "\n",
    "\n",
    "print(fruit_basket)"
   ]
  },
  {
   "cell_type": "markdown",
   "metadata": {},
   "source": [
    "<br>\n",
    "\n",
    "**```pop()```: removes the right most element from the deque** \n",
    "\n",
    "**```popleft()```: removes the left most element from the deque**"
   ]
  },
  {
   "cell_type": "code",
   "execution_count": 11,
   "metadata": {},
   "outputs": [
    {
     "name": "stdout",
     "output_type": "stream",
     "text": [
      "deque(['mango', 'grapes'])\n"
     ]
    }
   ],
   "source": [
    "#Example\n",
    "\n",
    "import collections\n",
    "\n",
    "fruit_basket = collections.deque(['apple','mango','grapes','litchi'])\n",
    "\n",
    "fruit_basket.pop()\n",
    "fruit_basket.popleft() \n",
    "\n",
    "\n",
    "print(fruit_basket)"
   ]
  },
  {
   "cell_type": "markdown",
   "metadata": {},
   "source": [
    "<br>\n",
    "\n",
    "**`rotate()`: rotate the the deque n steps to the right . if n os negative, rotate to left**"
   ]
  },
  {
   "cell_type": "code",
   "execution_count": 35,
   "metadata": {},
   "outputs": [
    {
     "name": "stdout",
     "output_type": "stream",
     "text": [
      "deque(['litchi', 'apple', 'mango', 'grapes'])\n"
     ]
    }
   ],
   "source": [
    "#Example\n",
    "\n",
    "import collections \n",
    "\n",
    "fruit_basket = collections.deque(['apple','mango','grapes','litchi'])\n",
    "\n",
    "fruit_basket.rotate(1) \n",
    "\n",
    "\n",
    "print(fruit_basket)"
   ]
  },
  {
   "cell_type": "markdown",
   "metadata": {},
   "source": [
    "<br>\n",
    "\n",
    "**`reverse()`: reverse the elements of the deque**"
   ]
  },
  {
   "cell_type": "code",
   "execution_count": 6,
   "metadata": {},
   "outputs": [
    {
     "name": "stdout",
     "output_type": "stream",
     "text": [
      "deque(['litchi', 'grapes', 'mango', 'apple'])\n"
     ]
    }
   ],
   "source": [
    "#Example\n",
    "\n",
    "import collections\n",
    "\n",
    "fruit_basket = collections.deque(['apple','mango','grapes','litchi'])\n",
    "\n",
    "fruit_basket.reverse() \n",
    "\n",
    "\n",
    "print(fruit_basket)"
   ]
  },
  {
   "cell_type": "markdown",
   "metadata": {},
   "source": [
    "------------------------------------------------------------------------"
   ]
  },
  {
   "cell_type": "markdown",
   "metadata": {},
   "source": [
    "## 3.`Counter()`"
   ]
  },
  {
   "cell_type": "markdown",
   "metadata": {},
   "source": [
    "A Counter is a dict subclass for counting hashable objects. It is a collection where elements are stored as dictionary keys and their counts are stored as dictionary values\n",
    "\n",
    "\n",
    "```class collections.Counter([iterable-or-mapping])```"
   ]
  },
  {
   "cell_type": "code",
   "execution_count": 40,
   "metadata": {},
   "outputs": [
    {
     "name": "stdout",
     "output_type": "stream",
     "text": [
      "Counter({'apple': 1, 'mango': 1, 'grapes': 1, 'litchi': 1})\n"
     ]
    }
   ],
   "source": [
    "# Example\n",
    "\n",
    "import collections\n",
    "\n",
    "fruit_basket = collections.Counter(['apple','mango','grapes','litchi'])\n",
    "print(fruit_basket)"
   ]
  },
  {
   "cell_type": "markdown",
   "metadata": {},
   "source": [
    "-------------------------------------------------------------------------------------------"
   ]
  },
  {
   "cell_type": "markdown",
   "metadata": {},
   "source": [
    "## 4.`OrderedDict()`"
   ]
  },
  {
   "cell_type": "markdown",
   "metadata": {},
   "source": [
    "subclass that has methods specialized for rearranging dictionary order. The only difference between ```dict()``` and  ```OrderedDict()``` is that ```OrderedDict()``` preserves the order in which keys are inserted. A regular ```dict()``` dosen't the track the order and while iterating it gives the vlaues randomly.\n",
    "\n",
    "``` class collections.OrderedDict([items])```"
   ]
  },
  {
   "cell_type": "markdown",
   "metadata": {},
   "source": [
    "\n",
    "**`popitem(last=True)`** : The ```popitem()``` method for ordered dictionaries returns and removes a (key, value) pair. The pairs are returned in _*LIFO*_ order if last is true or FIFO order if false.\n",
    " \n",
    "**`move_to_end(key, last=True)¶`** Move an existing key to either end of an ordered dictionary. The item is moved to the right end if last is true (the default) or to the beginning if last is false. Raises KeyError if the key does not exist:"
   ]
  },
  {
   "cell_type": "code",
   "execution_count": 8,
   "metadata": {},
   "outputs": [
    {
     "name": "stdout",
     "output_type": "stream",
     "text": [
      "apple 2\n",
      "mango 1\n",
      "pineapple 3\n",
      "gauva 4\n",
      "----------------------------------------------\n",
      "pen 1\n",
      "eraser 3\n",
      "scale 4\n",
      "pencil 2\n",
      "-----------------------------------------------\n",
      "('snake', 1)\n",
      "-----------------------------------------------\n",
      "('ant', 3)\n"
     ]
    }
   ],
   "source": [
    "# Example\n",
    "\n",
    "import collections \n",
    "\n",
    "od = collections.OrderedDict()\n",
    "od['mango'] = 1\n",
    "od['apple'] = 2\n",
    "od['pineapple'] = 3\n",
    "od['gauva'] = 4\n",
    "\n",
    "od.move_to_end('apple', last=False)\n",
    "for i,v in od.items():\n",
    "    print(i,v)\n",
    "\n",
    "print(\"----------------------------------------------\")\n",
    "    \n",
    "od = collections.OrderedDict()\n",
    "od['pen'] = 1\n",
    "od['pencil'] = 2\n",
    "od['eraser'] = 3\n",
    "od['scale'] = 4\n",
    "\n",
    "od.move_to_end('pencil')\n",
    "for i,v in od.items():\n",
    "    print(i,v)\n",
    "\n",
    "print(\"-----------------------------------------------\")\n",
    "\n",
    "od = collections.OrderedDict()\n",
    "od['snake']=1\n",
    "od['frog']=2\n",
    "od['ant']=3\n",
    "\n",
    "print(od.popitem(last=False))\n",
    "\n",
    "\n",
    "print(\"-----------------------------------------------\")\n",
    "\n",
    "od = collections.OrderedDict()\n",
    "od['snake']=1\n",
    "od['frog']=2\n",
    "od['ant']=3\n",
    "\n",
    "print(od.popitem())"
   ]
  },
  {
   "cell_type": "markdown",
   "metadata": {},
   "source": [
    "------------------------------------------------------------------------------------------"
   ]
  },
  {
   "cell_type": "markdown",
   "metadata": {},
   "source": [
    "## 5.`defaultdict()`"
   ]
  },
  {
   "cell_type": "markdown",
   "metadata": {},
   "source": [
    "- Defaultdict is a container like dictionaries present in the module collections. Defaultdict is a sub-class of the dict class that returns a dictionary-like object.\n",
    "\n",
    "\n",
    "\n",
    "- The functionality of both the dictionaries are same but the basic difference is that __DefaultDict__ never rasises a ```keyError``` it returns any random value.\n",
    "\n",
    "\n",
    "``` class collections.defaultdict([default_factory[, ...]])¶```"
   ]
  },
  {
   "cell_type": "code",
   "execution_count": 9,
   "metadata": {},
   "outputs": [],
   "source": [
    "#Example\n",
    "\n",
    "import collections\n",
    "\n",
    "s = 'mississippi'\n",
    "\n",
    "d = collections.defaultdict(int)\n",
    "\n",
    "for k in s:\n",
    "\n",
    "    d[k] += 1\n"
   ]
  },
  {
   "cell_type": "code",
   "execution_count": 10,
   "metadata": {},
   "outputs": [
    {
     "data": {
      "text/plain": [
       "[('i', 4), ('m', 1), ('p', 2), ('s', 4)]"
      ]
     },
     "execution_count": 10,
     "metadata": {},
     "output_type": "execute_result"
    }
   ],
   "source": [
    "sorted(d.items())\n"
   ]
  }
 ],
 "metadata": {
  "kernelspec": {
   "display_name": "Python 3",
   "language": "python",
   "name": "python3"
  },
  "language_info": {
   "codemirror_mode": {
    "name": "ipython",
    "version": 3
   },
   "file_extension": ".py",
   "mimetype": "text/x-python",
   "name": "python",
   "nbconvert_exporter": "python",
   "pygments_lexer": "ipython3",
   "version": "3.8.0"
  }
 },
 "nbformat": 4,
 "nbformat_minor": 4
}
